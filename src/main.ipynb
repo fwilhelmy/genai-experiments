{
  "cells": [
    {
      "cell_type": "markdown",
      "metadata": {
        "id": "view-in-github",
        "colab_type": "text"
      },
      "source": [
        "<a href=\"https://colab.research.google.com/github/fwilhelmy/IFT6135-HW3/blob/main/src/main.ipynb\" target=\"_parent\"><img src=\"https://colab.research.google.com/assets/colab-badge.svg\" alt=\"Open In Colab\"/></a>"
      ]
    },
    {
      "cell_type": "markdown",
      "metadata": {
        "id": "tCxnPGmfAi20"
      },
      "source": [
        "# Google Colab (Skip locally)"
      ]
    },
    {
      "cell_type": "code",
      "execution_count": null,
      "metadata": {
        "id": "Eh34_EIhAi21"
      },
      "outputs": [],
      "source": [
        "#@title Mount your Google Drive\n",
        "# If you run this notebook locally or on a cluster (i.e. not on Google Colab)\n",
        "# you can delete this cell which is specific to Google Colab. You may also\n",
        "# change the paths for data/logs in Arguments below.\n",
        "%matplotlib inline\n",
        "%load_ext autoreload\n",
        "%autoreload 2\n",
        "\n",
        "from google.colab import drive\n",
        "drive.mount('/content/gdrive')"
      ]
    },
    {
      "cell_type": "code",
      "execution_count": null,
      "metadata": {
        "id": "Zxat8pf4Ai22"
      },
      "outputs": [],
      "source": [
        "#@title Link your assignment folder & install requirements\n",
        "#@markdown Enter the path to the assignment folder in your Google Drive\n",
        "# If you run this notebook locally or on a cluster (i.e. not on Google Colab)\n",
        "# you can delete this cell which is specific to Google Colab. You may also\n",
        "# change the paths for data/logs in Arguments below.\n",
        "import sys\n",
        "import os\n",
        "import shutil\n",
        "import warnings\n",
        "\n",
        "folder = \"/content/gdrive/MyDrive/IFT6135/HW3_2025/src\" #@param {type:\"string\"}\n",
        "!ln -Ts \"$folder\" /content/src 2> /dev/null\n",
        "\n",
        "# Add the assignment folder to Python path\n",
        "if '/content/src' not in sys.path:\n",
        "  sys.path.insert(0, '/content/src')\n",
        "\n",
        "# Check if CUDA is available\n",
        "import torch\n",
        "if not torch.cuda.is_available():\n",
        "  warnings.warn('CUDA is not available.')"
      ]
    },
    {
      "cell_type": "markdown",
      "metadata": {
        "id": "ZttHQZiJAi23"
      },
      "source": [
        "# Imports & Setup"
      ]
    },
    {
      "cell_type": "code",
      "execution_count": null,
      "metadata": {
        "id": "73YUtHjqAi23"
      },
      "outputs": [],
      "source": [
        "%matplotlib inline\n",
        "import warnings\n",
        "from shutil import make_archive\n",
        "import matplotlib.pyplot as plt\n",
        "import torchvision\n",
        "import torch\n",
        "from torchvision import datasets, transforms\n",
        "import random\n",
        "\n",
        "from q1_train_vae import experiment1\n",
        "from q2_trainer_ddpm import experiment2\n",
        "from q3_trainer_cfg import experiment3\n",
        "\n",
        "models = ['VAE', 'DDPM', 'CFG']\n",
        "\n",
        "from q1_plots_vae import generate_images, plot_loss, plot_traversals, generate_latent_traversals, plot_interpolation_comparison\n",
        "from q2_plots_ddpm import plot_samples_across_epochs\n",
        "from q3_plots_cfg import plot_evolution_across_epochs"
      ]
    },
    {
      "cell_type": "markdown",
      "metadata": {
        "id": "zXFiADLzAi24"
      },
      "source": [
        "# Experiments"
      ]
    },
    {
      "cell_type": "markdown",
      "metadata": {
        "id": "UHKlNBhKAi24"
      },
      "source": [
        "## Experiment 1 (VAE)"
      ]
    },
    {
      "cell_type": "code",
      "execution_count": null,
      "metadata": {
        "id": "Ez_bTPWLAi24"
      },
      "outputs": [],
      "source": [
        "vae_model, vae_optimizer = experiment1(False)\n",
        "dataset = datasets.MNIST('../data', train=True, download=True, transform=transforms.ToTensor())"
      ]
    },
    {
      "cell_type": "code",
      "execution_count": null,
      "metadata": {
        "id": "1K5YBhRRAi25"
      },
      "outputs": [],
      "source": [
        "plot_loss('results/experiment1/history.json', save_path='results/experiment1/loss_curve.png', show=True)"
      ]
    },
    {
      "cell_type": "code",
      "execution_count": null,
      "metadata": {
        "id": "HJjp6uSsAi25"
      },
      "outputs": [],
      "source": [
        "vae_samples = generate_images(vae_model, num_images=64, show=True, file_path='results/experiment1/vae_samples.png')"
      ]
    },
    {
      "cell_type": "code",
      "execution_count": null,
      "metadata": {
        "id": "v42AAm-XAi25"
      },
      "outputs": [],
      "source": [
        "rand_idx = random.randint(0, len(dataset) - 1)\n",
        "datapoint, _ = dataset[rand_idx]\n",
        "\n",
        "eps = 4.0\n",
        "tr_dp = generate_latent_traversals(vae_model, n_factors=20, n_steps=5, eps=eps, data_sample=datapoint)\n",
        "plot_traversals(tr_dp, eps=eps, save_path='results/experiment1/traversals_dp.png', show=True)"
      ]
    },
    {
      "cell_type": "code",
      "execution_count": null,
      "metadata": {
        "id": "7umBNHpvAi25"
      },
      "outputs": [],
      "source": [
        "tr_gs = generate_latent_traversals(vae_model, n_factors=20, n_steps=5, eps=eps)\n",
        "plot_traversals(tr_gs, eps=eps, save_path='results/experiment1/traversals_gs.png', show=True)"
      ]
    },
    {
      "cell_type": "code",
      "execution_count": null,
      "metadata": {
        "id": "aMu-sBeoAi26"
      },
      "outputs": [],
      "source": [
        "plot_interpolation_comparison(vae_model, num_steps=10, save_path='results/experiment1/interpolation_gs.png', show=True)"
      ]
    },
    {
      "cell_type": "code",
      "execution_count": null,
      "metadata": {
        "id": "fC2R3HfaAi26"
      },
      "outputs": [],
      "source": [
        "idx1 = random.randint(0, len(dataset) - 1)\n",
        "x1, y1 = dataset[idx1]\n",
        "idx2 = random.randint(0, len(dataset) - 1)\n",
        "x2, y2 = dataset[idx2]\n",
        "print(f\"Interpolating between {y1} and {y2}\")\n",
        "plot_interpolation_comparison(\n",
        "    vae_model,\n",
        "    endpoints=(x1.unsqueeze(0),x2.unsqueeze(0)),\n",
        "    num_steps=10,\n",
        "    save_path='results/experiment1/interpolation_ds.png',\n",
        "    show=True)"
      ]
    },
    {
      "cell_type": "code",
      "execution_count": null,
      "metadata": {
        "id": "4QYAi4zyAi26"
      },
      "outputs": [],
      "source": [
        "# TODO make_archive('experiment1', 'zip', 'results/experiment1')"
      ]
    },
    {
      "cell_type": "markdown",
      "metadata": {
        "id": "-rG59-nYAi26"
      },
      "source": [
        "## Experiment 2 (DDPM)"
      ]
    },
    {
      "cell_type": "code",
      "execution_count": null,
      "metadata": {
        "id": "dkSlxAjDAi26"
      },
      "outputs": [],
      "source": [
        "ddpm_trainer = experiment2(False)"
      ]
    },
    {
      "cell_type": "code",
      "execution_count": null,
      "metadata": {
        "id": "asPL6dFaAi26"
      },
      "outputs": [],
      "source": [
        "n_samples = 9\n",
        "n_steps = 1000\n",
        "ddpm_samples = ddpm_trainer.sample(n_steps=n_steps, n_samples=n_samples, show=True, save=True)"
      ]
    },
    {
      "cell_type": "code",
      "execution_count": null,
      "metadata": {
        "id": "dEQP9oQ4Ai26"
      },
      "outputs": [],
      "source": [
        "grid = torchvision.utils.make_grid(ddpm_samples, nrow=8, padding=2)\n",
        "plt.figure(figsize=(6,6))\n",
        "plt.imshow(grid.permute(1, 2, 0).cpu(), cmap='gray')\n",
        "plt.axis('off')\n",
        "plt.show()"
      ]
    },
    {
      "cell_type": "code",
      "execution_count": null,
      "metadata": {
        "id": "ux7YhENOAi27"
      },
      "outputs": [],
      "source": [
        "# plot 8 samples each at epochs 5, 10, 15, 20:\n",
        "plot_samples_across_epochs(\n",
        "    epochs=[5, 9, 15, 19],\n",
        "    n_samples=9,\n",
        "    seed=42,\n",
        "    n_steps=100\n",
        ")"
      ]
    },
    {
      "cell_type": "code",
      "execution_count": null,
      "metadata": {
        "id": "AgMDiJwQAi27"
      },
      "outputs": [],
      "source": [
        "# TODO make_archive('experiment2', 'zip', 'results/experiment2')"
      ]
    },
    {
      "cell_type": "markdown",
      "metadata": {
        "id": "_PRBeFUIAi27"
      },
      "source": [
        "## Experiment 3 (CFG)"
      ]
    },
    {
      "cell_type": "code",
      "execution_count": null,
      "metadata": {
        "id": "nh43ILP7Ai27"
      },
      "outputs": [],
      "source": [
        "cfg_trainer = experiment3(False)"
      ]
    },
    {
      "cell_type": "code",
      "execution_count": null,
      "metadata": {
        "id": "njtl0SS8Ai27"
      },
      "outputs": [],
      "source": [
        "n_samples = 3\n",
        "labels = torch.randint(0, 9, (n_samples,), device=cfg_trainer.args.device)\n",
        "n_steps = 1000\n",
        "cfg_samples = cfg_trainer.sample(n_steps=n_steps, show=True, save=True)"
      ]
    },
    {
      "cell_type": "code",
      "execution_count": null,
      "metadata": {
        "id": "7aQPperAAi27"
      },
      "outputs": [],
      "source": [
        "grid = torchvision.utils.make_grid(cfg_samples, nrow=8, padding=2)\n",
        "plt.figure(figsize=(6,6))\n",
        "plt.imshow(grid.permute(1, 2, 0).cpu(), cmap='gray')\n",
        "plt.axis('off')\n",
        "plt.show()"
      ]
    },
    {
      "cell_type": "code",
      "execution_count": null,
      "metadata": {
        "id": "DPrKNTfAAi28"
      },
      "outputs": [],
      "source": [
        "n_samples = 9\n",
        "labels = torch.randint(0, 9, (n_samples,), device=cfg_trainer.args.device)\n",
        "plot_evolution_across_epochs(\n",
        "    epochs=[5, 9, 15, 19],\n",
        "    n_steps=100,\n",
        "    labels=labels,\n",
        ")\n"
      ]
    },
    {
      "cell_type": "code",
      "execution_count": null,
      "metadata": {
        "id": "1N2NwK_uAi28"
      },
      "outputs": [],
      "source": [
        "# TODO make_archive('experiment3', 'zip', 'results/experiment3')"
      ]
    }
  ],
  "metadata": {
    "kernelspec": {
      "display_name": "ift",
      "language": "python",
      "name": "python3"
    },
    "language_info": {
      "codemirror_mode": {
        "name": "ipython",
        "version": 3
      },
      "file_extension": ".py",
      "mimetype": "text/x-python",
      "name": "python",
      "nbconvert_exporter": "python",
      "pygments_lexer": "ipython3",
      "version": "3.13.2"
    },
    "colab": {
      "provenance": [],
      "include_colab_link": true
    }
  },
  "nbformat": 4,
  "nbformat_minor": 0
}