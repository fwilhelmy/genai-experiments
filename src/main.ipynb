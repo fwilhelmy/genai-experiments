{
 "cells": [
  {
   "cell_type": "markdown",
   "metadata": {},
   "source": [
    "# Google Colab (Skip locally)"
   ]
  },
  {
   "cell_type": "code",
   "execution_count": null,
   "metadata": {},
   "outputs": [],
   "source": [
    "#@title Mount your Google Drive\n",
    "# If you run this notebook locally or on a cluster (i.e. not on Google Colab)\n",
    "# you can delete this cell which is specific to Google Colab. You may also\n",
    "# change the paths for data/logs in Arguments below.\n",
    "%matplotlib inline\n",
    "%load_ext autoreload\n",
    "%autoreload 2\n",
    "\n",
    "from google.colab import drive\n",
    "drive.mount('/content/gdrive')"
   ]
  },
  {
   "cell_type": "code",
   "execution_count": null,
   "metadata": {},
   "outputs": [],
   "source": [
    "#@title Link your assignment folder & install requirements\n",
    "#@markdown Enter the path to the assignment folder in your Google Drive\n",
    "# If you run this notebook locally or on a cluster (i.e. not on Google Colab)\n",
    "# you can delete this cell which is specific to Google Colab. You may also\n",
    "# change the paths for data/logs in Arguments below.\n",
    "import sys\n",
    "import os\n",
    "import shutil\n",
    "import warnings\n",
    "\n",
    "folder = \"/content/gdrive/MyDrive/IFT6135/HW3_2025/src\" #@param {type:\"string\"}\n",
    "!ln -Ts \"$folder\" /content/src 2> /dev/null\n",
    "\n",
    "# Add the assignment folder to Python path\n",
    "if '/content/src' not in sys.path:\n",
    "  sys.path.insert(0, '/content/src')\n",
    "\n",
    "# Check if CUDA is available\n",
    "import torch\n",
    "if not torch.cuda.is_available():\n",
    "  warnings.warn('CUDA is not available.')"
   ]
  },
  {
   "cell_type": "markdown",
   "metadata": {},
   "source": [
    "# Imports & Setup"
   ]
  },
  {
   "cell_type": "code",
   "execution_count": null,
   "metadata": {},
   "outputs": [],
   "source": [
    "%matplotlib inline\n",
    "import warnings\n",
    "from shutil import make_archive\n",
    "import matplotlib.pyplot as plt\n",
    "import torchvision\n",
    "import torch\n",
    "from torchvision import datasets, transforms\n",
    "import random\n",
    "\n",
    "from q1_train_vae import experiment1\n",
    "from q1_plots_vae import generate_images, plot_loss, plot_traversals, generate_latent_traversals, plot_interpolation_comparison\n",
    "from q2_trainer_ddpm import experiment2\n",
    "from q3_trainer_cfg import experiment3\n",
    "\n",
    "models = ['VAE', 'DDPM', 'CFG']"
   ]
  },
  {
   "cell_type": "markdown",
   "metadata": {},
   "source": [
    "# Experiments"
   ]
  },
  {
   "cell_type": "markdown",
   "metadata": {},
   "source": [
    "## Experiment 1 (VAE)"
   ]
  },
  {
   "cell_type": "code",
   "execution_count": null,
   "metadata": {},
   "outputs": [],
   "source": [
    "vae_model, vae_optimizer = experiment1(False)\n",
    "dataset = datasets.MNIST('../data', train=True, download=True, transform=transforms.ToTensor())"
   ]
  },
  {
   "cell_type": "code",
   "execution_count": null,
   "metadata": {},
   "outputs": [],
   "source": [
    "plot_loss('results/experiment1/history.json', save_path='results/experiment1/loss_curve.png', show=True)"
   ]
  },
  {
   "cell_type": "code",
   "execution_count": null,
   "metadata": {},
   "outputs": [],
   "source": [
    "vae_samples = generate_images(vae_model, num_images=64, show=True, file_path='results/experiment1/vae_samples.png')"
   ]
  },
  {
   "cell_type": "code",
   "execution_count": null,
   "metadata": {},
   "outputs": [],
   "source": [
    "rand_idx = random.randint(0, len(dataset) - 1)\n",
    "datapoint, _ = dataset[rand_idx]\n",
    "\n",
    "eps = 4.0\n",
    "tr_dp = generate_latent_traversals(vae_model, n_factors=20, n_steps=5, eps=eps, data_sample=datapoint)\n",
    "plot_traversals(tr_dp, eps=eps, save_path='results/experiment1/traversals_dp.png', show=True)"
   ]
  },
  {
   "cell_type": "code",
   "execution_count": null,
   "metadata": {},
   "outputs": [],
   "source": [
    "tr_gs = generate_latent_traversals(vae_model, n_factors=20, n_steps=5, eps=eps)\n",
    "plot_traversals(tr_gs, eps=eps, save_path='results/experiment1/traversals_gs.png', show=True)"
   ]
  },
  {
   "cell_type": "code",
   "execution_count": null,
   "metadata": {},
   "outputs": [],
   "source": [
    "plot_interpolation_comparison(vae_model, num_steps=10, save_path='results/experiment1/interpolation_gs.png', show=True)"
   ]
  },
  {
   "cell_type": "code",
   "execution_count": null,
   "metadata": {},
   "outputs": [],
   "source": [
    "idx1 = random.randint(0, len(dataset) - 1)\n",
    "x1, y1 = dataset[idx1]\n",
    "idx2 = random.randint(0, len(dataset) - 1)\n",
    "x2, y2 = dataset[idx2]\n",
    "print(f\"Interpolating between {y1} and {y2}\")\n",
    "plot_interpolation_comparison(\n",
    "    vae_model,\n",
    "    endpoints=(x1.unsqueeze(0),x2.unsqueeze(0)), \n",
    "    num_steps=10,\n",
    "    save_path='results/experiment1/interpolation_ds.png',\n",
    "    show=True)"
   ]
  },
  {
   "cell_type": "code",
   "execution_count": null,
   "metadata": {},
   "outputs": [],
   "source": [
    "# TODO make_archive('experiment1', 'zip', 'results/experiment1')"
   ]
  },
  {
   "cell_type": "markdown",
   "metadata": {},
   "source": [
    "## Experiment 2 (DDPM)"
   ]
  },
  {
   "cell_type": "code",
   "execution_count": null,
   "metadata": {},
   "outputs": [],
   "source": [
    "ddpm_trainer = experiment2(False)"
   ]
  },
  {
   "cell_type": "code",
   "execution_count": null,
   "metadata": {},
   "outputs": [],
   "source": [
    "n_samples = 9\n",
    "n_steps = 1000\n",
    "ddpm_samples = ddpm_trainer.sample(n_steps=n_steps, n_samples=n_samples, show=True, save=True)"
   ]
  },
  {
   "cell_type": "code",
   "execution_count": null,
   "metadata": {},
   "outputs": [],
   "source": [
    "grid = torchvision.utils.make_grid(ddpm_samples, nrow=8, padding=2)\n",
    "plt.figure(figsize=(6,6))\n",
    "plt.imshow(grid.permute(1, 2, 0).cpu(), cmap='gray')\n",
    "plt.axis('off')\n",
    "plt.show()"
   ]
  },
  {
   "cell_type": "code",
   "execution_count": null,
   "metadata": {},
   "outputs": [],
   "source": [
    "from q2_plots_ddpm import plot_samples_across_epochs\n",
    "\n",
    "# plot 8 samples each at epochs 5, 10, 15, 20:\n",
    "plot_samples_across_epochs(\n",
    "    epochs=[5, 9, 15, 19],\n",
    "    n_samples=9,\n",
    "    seed=42,\n",
    "    n_steps=100\n",
    ")"
   ]
  },
  {
   "cell_type": "code",
   "execution_count": null,
   "metadata": {},
   "outputs": [],
   "source": [
    "# TODO make_archive('experiment2', 'zip', 'results/experiment2')"
   ]
  },
  {
   "cell_type": "markdown",
   "metadata": {},
   "source": [
    "## Experiment 3 (CFG)"
   ]
  },
  {
   "cell_type": "code",
   "execution_count": null,
   "metadata": {},
   "outputs": [],
   "source": [
    "cfg_trainer = experiment3(False)"
   ]
  },
  {
   "cell_type": "code",
   "execution_count": null,
   "metadata": {},
   "outputs": [],
   "source": [
    "n_samples = 3\n",
    "labels = torch.randint(0, 9, (n_samples,), device=cfg_trainer.args.device)\n",
    "n_steps = 1000\n",
    "cfg_samples = cfg_trainer.sample(n_steps=n_steps, show=True, save=True)"
   ]
  },
  {
   "cell_type": "code",
   "execution_count": null,
   "metadata": {},
   "outputs": [],
   "source": [
    "grid = torchvision.utils.make_grid(cfg_samples, nrow=8, padding=2)\n",
    "plt.figure(figsize=(6,6))\n",
    "plt.imshow(grid.permute(1, 2, 0).cpu(), cmap='gray')\n",
    "plt.axis('off')\n",
    "plt.show()"
   ]
  },
  {
   "cell_type": "code",
   "execution_count": null,
   "metadata": {},
   "outputs": [],
   "source": [
    "import torch\n",
    "import matplotlib.pyplot as plt\n",
    "from q3_trainer_cfg import experiment3\n",
    "\n",
    "def plot_evolution_across_epochs(\n",
    "    epochs=[5, 10, 15, 20],\n",
    "    n_steps=None,\n",
    "    labels: torch.Tensor = None,\n",
    "    seed=42,\n",
    "):\n",
    "    \"\"\"\n",
    "    Samples the CFG diffusion model at specific epochs and plots the results.\n",
    "\n",
    "    Columns → epochs; Rows → fixed labels.\n",
    "\n",
    "    Args:\n",
    "        epochs   (list[int]): which checkpoint epochs to load & sample.\n",
    "        n_steps   (int|None): number of reverse diffusion steps to use.\n",
    "                             If None, uses trainer.args.n_steps.\n",
    "        labels    (torch.Tensor|None): tensor of shape (n_samples,) with labels [0–9].\n",
    "                             If None, will sample uniformly at random once,\n",
    "                             using trainer.args.n_samples as length.\n",
    "        seed      (int): RNG seed for reproducibility of labels and sampling.\n",
    "    \"\"\"\n",
    "    # 1) Fix RNG\n",
    "    torch.manual_seed(seed)\n",
    "\n",
    "    # 2) Grab device & default sample count\n",
    "    tmp_trainer = experiment3(train=False, checkpoint_epoch=epochs[0])\n",
    "    device = tmp_trainer.args.device\n",
    "    default_n = tmp_trainer.args.n_samples\n",
    "\n",
    "    # 3) Prepare labels\n",
    "    if labels is None:\n",
    "        n = default_n\n",
    "        labels = torch.randint(0, 10, (n,), device=device)\n",
    "    else:\n",
    "        labels = labels.to(device)\n",
    "        n = labels.numel()\n",
    "        assert labels.dim() == 1, \"labels must be a 1-D tensor\"\n",
    "    \n",
    "    all_samples = []\n",
    "    for ep in epochs:\n",
    "        # load model at epoch `ep`\n",
    "        trainer = experiment3(train=False, checkpoint_epoch=ep)\n",
    "        trainer.args.n_samples = n\n",
    "\n",
    "        # sample\n",
    "        z_t = trainer.sample(\n",
    "            labels=labels,\n",
    "            n_steps=n_steps,\n",
    "            set_seed=True,\n",
    "            show=False,\n",
    "            save=False,\n",
    "        )\n",
    "        all_samples.append(z_t)\n",
    "\n",
    "    # 4) Plot: rows = samples/labels, cols = epochs\n",
    "    fig, axes = plt.subplots(\n",
    "        n, len(epochs),\n",
    "        figsize=(len(epochs)*3, n*3),\n",
    "        squeeze=False\n",
    "    )\n",
    "    for col, z_t in enumerate(all_samples):\n",
    "        for row in range(n):\n",
    "            ax = axes[row][col]\n",
    "            img = z_t[row].squeeze().cpu().numpy()\n",
    "            ax.imshow(img, cmap='gray')\n",
    "            # hide ticks & spines (but not the ylabel)\n",
    "            ax.set_xticks([])\n",
    "            ax.set_yticks([])\n",
    "            for spine in ax.spines.values():\n",
    "                spine.set_visible(False)\n",
    "\n",
    "            if row == 0:\n",
    "                ax.set_title(f'Epoch {epochs[col]}')\n",
    "            if col == 0:\n",
    "                ax.set_ylabel(f'Label {labels[row].item()}',\n",
    "                            rotation=90, fontsize=12)\n",
    "    plt.tight_layout()\n",
    "    plt.show()\n"
   ]
  },
  {
   "cell_type": "code",
   "execution_count": null,
   "metadata": {},
   "outputs": [],
   "source": [
    "\n",
    "n_samples = 9\n",
    "labels = torch.randint(0, 9, (n_samples,), device=cfg_trainer.args.device)\n",
    "plot_evolution_across_epochs(\n",
    "    epochs=[5, 9, 15, 19],\n",
    "    n_steps=100,\n",
    "    labels=labels,\n",
    ")\n"
   ]
  },
  {
   "cell_type": "code",
   "execution_count": null,
   "metadata": {},
   "outputs": [],
   "source": [
    "# TODO make_archive('experiment3', 'zip', 'results/experiment3')"
   ]
  }
 ],
 "metadata": {
  "kernelspec": {
   "display_name": "ift",
   "language": "python",
   "name": "python3"
  },
  "language_info": {
   "codemirror_mode": {
    "name": "ipython",
    "version": 3
   },
   "file_extension": ".py",
   "mimetype": "text/x-python",
   "name": "python",
   "nbconvert_exporter": "python",
   "pygments_lexer": "ipython3",
   "version": "3.13.2"
  }
 },
 "nbformat": 4,
 "nbformat_minor": 2
}
